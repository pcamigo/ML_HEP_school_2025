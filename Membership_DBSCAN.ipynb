{
  "cells": [
    {
      "cell_type": "markdown",
      "metadata": {
        "id": "JmpLKNJtxUF1"
      },
      "source": [
        "# Hands-on session Wednesday 15\n",
        "# Membership determination in open clusters using DBSCAN\n",
        "\n",
        "\n",
        "This notebook is designed to guide you step by step through the development of the mini-project by following each cell. In some cases, <font color=\"blue\">**specific tasks are highlighted in bold blue** </font> for you to complete. You can review the provided solutions to compare your results.\n",
        "\n",
        "\n",
        "\n"
      ]
    },
    {
      "cell_type": "markdown",
      "metadata": {
        "id": "0QAFkWgfxUF5"
      },
      "source": [
        "\n",
        "### Introduction to Gaia and Open Clusters\n",
        "\n",
        "In this notebook we will use Gaia data from Data Release 3 (DR3) to obtain information from 2 open clusters in the Milky Way, and we will attempt to determine the true members of the clusters.\n",
        "\n",
        "### What is Gaia?\n",
        "Gaia is a space observatory launched by the European Space Agency (ESA) to chart a three-dimensional map of the Milky Way.\n",
        " - It provides precise astrometric, photometric, and spectroscopic data for over 1.8 billion sources.\n",
        " - Gaia Data Release 3 (DR3) includes information such as:\n",
        "   - Positions (RA, DEC)\n",
        "   - Proper motions\n",
        "   - Parallaxes (distance indicators)\n",
        "   - Radial velocities\n",
        "\n",
        "### What are Open Clusters?\n",
        " - Open clusters are groups of stars that formed from the same molecular cloud and are gravitationally bound. They are the young stellar population in the Galactic Disk\n",
        " - They are key to understanding stellar evolution and the structure of the Milky Way.\n",
        " - Identifying membership of stars in open clusters is crucial for determining cluster properties like age, distance, and metallicity.\n",
        "\n",
        "\n"
      ]
    },
    {
      "cell_type": "markdown",
      "metadata": {
        "id": "-l1q4Bz1xUF6"
      },
      "source": [
        "### **Part 1: Gaia and `astroquery`**"
      ]
    },
    {
      "cell_type": "markdown",
      "source": [
        "We need to install the libraries we will use to retrieve the data from Gaia Server. This is done with the module [`astroquery`](https://astroquery.readthedocs.io/en/latest/), which  is a set of tools for querying astronomical web forms and databases. We can write a query in SQL language"
      ],
      "metadata": {
        "id": "J3EZHmfWO00j"
      }
    },
    {
      "cell_type": "code",
      "source": [
        "#you might need to install this\n",
        "!pip install astroquery"
      ],
      "metadata": {
        "id": "WvxEYgFjxcVu"
      },
      "execution_count": null,
      "outputs": []
    },
    {
      "cell_type": "code",
      "execution_count": 3,
      "metadata": {
        "id": "lmDV0bapxUF6"
      },
      "outputs": [],
      "source": [
        "#other important libraries\n",
        "\n",
        "from math import *\n",
        "import numpy as np\n",
        "import matplotlib.pyplot as plt\n",
        "from astroquery.gaia import Gaia #to connect to the Gaia Catalog\n",
        "import astropy.units as u\n",
        "from astropy.coordinates import SkyCoord\n",
        "from astroquery.gaia import Gaia"
      ]
    },
    {
      "cell_type": "markdown",
      "metadata": {
        "id": "6QOYzvnGxUF8"
      },
      "source": [
        "The language used to query astronomical databases is **ADQL** (Astronomical Data Query Language), which is based on [SQL](https://www.dataquest.io/blog/sql-basics/) (Structured Query Language).\n",
        "\n",
        "- For more information on ADQL, you can refer to this [link](https://www.gaia.ac.uk/data/gaia-data-release-1/adql-cookbook).\n",
        "\n",
        "\n",
        "The Gaia database is a **structured database**, meaning it is a collection of one or more tables where data is organized into columns. These tables contain different types of information, such as positions, parallaxes, proper motions, magnitudes, and more. To explore the tables in the Gaia database, we can query the database to retrieve a list of available tables and their descriptions."
      ]
    },
    {
      "cell_type": "code",
      "source": [
        "tables_gaia=Gaia.load_tables(only_names=True)"
      ],
      "metadata": {
        "id": "inCJcWthRwLE"
      },
      "execution_count": null,
      "outputs": []
    },
    {
      "cell_type": "code",
      "source": [
        "#to check the names of the tables\n",
        "for table in tables_gaia:\n",
        "    print(table.name)"
      ],
      "metadata": {
        "id": "RB35Y6Q_RzAu"
      },
      "execution_count": null,
      "outputs": []
    },
    {
      "cell_type": "markdown",
      "source": [
        "We need to load the DR3 database"
      ],
      "metadata": {
        "id": "UEF-fiN_SF3T"
      }
    },
    {
      "cell_type": "code",
      "source": [
        "table_metadata = Gaia.load_table('gaiadr3.gaia_source')\n",
        "table_metadata"
      ],
      "metadata": {
        "id": "IFzEYgvhRyr6"
      },
      "execution_count": null,
      "outputs": []
    },
    {
      "cell_type": "code",
      "source": [
        "print(table_metadata) #check the metadata"
      ],
      "metadata": {
        "id": "1qk7NwqCRx_9"
      },
      "execution_count": null,
      "outputs": []
    },
    {
      "cell_type": "code",
      "source": [
        "#check the columns\n",
        "for column in table_metadata.columns:\n",
        "    print(column.name)"
      ],
      "metadata": {
        "id": "Dq34jQYnSRys"
      },
      "execution_count": null,
      "outputs": []
    },
    {
      "cell_type": "markdown",
      "source": [
        "This table contains **152 columns** and includes all objects observed by Gaia, making it a very large dataset. However, we do not need all objects; instead, we are interested in a subset of objects relevant to our research goals. To address this, we will use **ADQL** to write a query in SQL that helps us extract only the data we need.\n",
        "\n",
        "In this case we will retrieve:\n",
        "- **source_id:** id of the source\n",
        "- **ra, dec**: position in the sky right ascension, declination (J2000)\n",
        "- **parallax**: parallax angle. Parallax is the measurement of the angular displacement of a star as seen from Earth at opposite points in its orbit around the Sun (six months apart). It is directly related to the distance to the star, through the formula:\n",
        "$$ d\\rm{(parsec)} = \\frac{1}{p\\rm{(arcsec)}}$$\n",
        " where: $d$ is the distance to the star in parsecs and $p$ is the parallax angle in arcseconds.\n",
        "- **pm, pmra, pmdec** proper motions, absolute and in RA, DEC\n",
        "- **phot_g_mean_mag, bp_rp** photometric information in Gaia passbands, filters $G$, $G_{BP}$ and $G_RP$\n",
        "\n",
        "<img src=\"https://www.cosmos.esa.int/documents/29201/4226701/GaiaEDR3_ExtPhotSystem.png/b1633feb-7929-16e9-afc3-b9a5afdb5311?t=1603981069444\" alt=\"Gaia passbands\" width=\"500\">\n",
        "\n",
        "\n"
      ],
      "metadata": {
        "id": "YU3jI2S8bgr8"
      }
    },
    {
      "cell_type": "code",
      "execution_count": null,
      "metadata": {
        "id": "vlz19uWlxUF9"
      },
      "outputs": [],
      "source": [
        "table_metadata = Gaia.load_table('gaiadr3.gaia_source')\n",
        "for column in table_metadata.columns:\n",
        "    print(column.name)"
      ]
    },
    {
      "cell_type": "code",
      "source": [],
      "metadata": {
        "id": "xIVUlsTXSgyq"
      },
      "execution_count": null,
      "outputs": []
    },
    {
      "cell_type": "markdown",
      "source": [
        "To select objects within a specific region of the sky, we can perform a **cone search** using `astroquery` and specific operators in [ADQL](https://www.ivoa.net/documents/ADQL/20180112/PR-ADQL-2.1-20180112.html#tth_sEc4.2.12).\n",
        "\n",
        "\n",
        "In this case, we will analyse the cluster M41 (NGC 2287).\n",
        "\n",
        "\n",
        "<img src=\"https://noirlab.edu/public/media/archives/images/large/noao-m41.jpg\" alt=\"NGC2287\" width=\"500\">\n",
        "\n",
        "\n",
        "\n",
        "We will perform the cone search centered in the cluster coordinates and  in a radius of 45 arcmin, which contains the size of the cluster reported in the literature. The basic information of the cluster can be found in the [SIMBAD database](https://simbad.cds.unistra.fr/simbad/sim-id?Ident=ngc+2287&NbIdent=1&Radius=2&Radius.unit=arcmin&submit=submit+id).\n",
        "\n",
        "Since the cone search requires the input information in degrees, we use the function `SkyCoord`in the `astropy` module to transform the units from arcmin to degrees.\n",
        "\n",
        "(This is a simple calculation, since\n",
        "- 1 degree (1° ) is 1/360 of a complete circle.\n",
        "- 1 arcminute = 1/60 of a degree\n",
        "- 1 arcsecond = 1/60 of a minute = 1/3600 of a degree\n",
        "\n",
        "In the case of right ascension and hours, each hour of right ascension measured along the equator equals 1/24th of a circle (360° divided by 24) or 15°)"
      ],
      "metadata": {
        "id": "cRDo2B7XcOq8"
      }
    },
    {
      "cell_type": "code",
      "source": [
        "#hh:m:s y dd:m:s a deg\n",
        "print(SkyCoord('06h 45m 59.8s', '-20d 42m 58s', frame='icrs'))\n",
        "\n",
        "radius_open= 45* u.arcmin\n",
        "print(radius_open)\n",
        "\n",
        "radius_open.to(u.degree)"
      ],
      "metadata": {
        "id": "ctwy8ofWShfz"
      },
      "execution_count": null,
      "outputs": []
    },
    {
      "cell_type": "markdown",
      "source": [
        "the query of the cone search is then"
      ],
      "metadata": {
        "id": "c202IzPjkmk3"
      }
    },
    {
      "cell_type": "code",
      "source": [
        "query_open= \"\"\"SELECT\n",
        "TOP 30000\n",
        "source_id, ra, dec, phot_g_mean_mag, parallax, bp_rp,  pm, pmra, pmdec\n",
        "FROM gaiadr3.gaia_source\n",
        "WHERE 1=CONTAINS(\n",
        "  POINT(ra, dec),\n",
        "  CIRCLE(101.49916667, -20.71611111, 0.66333333)) AND parallax > 0\n",
        "\"\"\""
      ],
      "metadata": {
        "id": "XBD94QIKkl44"
      },
      "execution_count": null,
      "outputs": []
    },
    {
      "cell_type": "code",
      "source": [
        "job_open= Gaia.launch_job_async(query_open)\n",
        "results_open = job_open.get_results()\n",
        "results_open"
      ],
      "metadata": {
        "id": "-Igi3Etkk3RI"
      },
      "execution_count": null,
      "outputs": []
    },
    {
      "cell_type": "markdown",
      "source": [
        "We limit the number of sources to 30000 with `TOP 30000`in the query. Also, the parallax must be a positive number, since negative parallax is a error in the observation ([link](https://www.cosmos.esa.int/web/gaia-users/archive/faq#negative%20parallax))\n",
        "\n",
        "The result is an astropy table (try `type(results_open)` to check). This table is similar to a dataframe, but includes more data from the columns. You can still transform the results to a more familiar `pandas` dataframe by using `.to_pandas()` function\n"
      ],
      "metadata": {
        "id": "D9PNBgElqun_"
      }
    },
    {
      "cell_type": "code",
      "source": [
        "type(results_open)"
      ],
      "metadata": {
        "id": "bXwJfuFEXLKZ"
      },
      "execution_count": null,
      "outputs": []
    },
    {
      "cell_type": "code",
      "source": [
        "cluster_data_df=results_open.to_pandas()"
      ],
      "metadata": {
        "id": "76H4S_PYbBXX"
      },
      "execution_count": null,
      "outputs": []
    },
    {
      "cell_type": "markdown",
      "source": [
        "### **Part 2: Explore the data!**\n",
        "\n",
        "A fundamental part in a machine learning process is to explore and to understand the data. First, we will visualize a well-known plot in astronomy, the **color-magnitude diagram (CMD)**. In this plot,the x-axis represents the **color** of the star, which is a measure of its temperature (e.g., (B-V), ($G_{BP}$ - $G_{RP}$)). The y-axis represents the **magnitude** (brightness), typically absolute or apparent magnitude.\n",
        "An example of a CMD is the following:\n",
        "\n",
        "<img src=\"https://d2vlcm61l7u1fs.cloudfront.net/media%2Facb%2Facb006e4-c478-4e25-bfb3-557f49655b3a%2FphpsTiIHV.png\" alt=\"Simple CMD\" width=\"500\">"
      ],
      "metadata": {
        "id": "NDbKnAQ5qnnj"
      }
    },
    {
      "cell_type": "markdown",
      "source": [
        "Note that the y-axis is [inverted](https://www.e-education.psu.edu/astro801/content/l4_p5.html#:~:text=If%20you%20notice%2C%20the%20magnitude,a%206th%20magnitude%20star.). Greater number in magnitude means more faint. This CMD represents all the stellar population of a particular clusters. All the stars have (more or less) the same age and were born from the same parent cloud. The different state of evolution is driven by the mass of each star"
      ],
      "metadata": {
        "id": "7FxM0kZYqoFM"
      }
    },
    {
      "cell_type": "markdown",
      "source": [
        "<font color=\"blue\"> **Now plot the color-magnitude diagram of the selected cluster. x-axis must include the color bp_rp ($G_{bp}- G_{rp}$) and y-axis, the inverted magnitude (either phot_g_mean_mag, or the other two). Compare with the plot example above** </font>\n"
      ],
      "metadata": {
        "id": "8Pj4hsxcwZo0"
      }
    },
    {
      "cell_type": "code",
      "source": [
        "#plot CMD\n"
      ],
      "metadata": {
        "id": "baq8NNrZqnX7"
      },
      "execution_count": null,
      "outputs": []
    },
    {
      "cell_type": "markdown",
      "source": [
        "The plot is very noisy, compared to the previous one. This is because only the cluster population follows the sequence shown in the previous plot, and all the noise are non-members. We must get rid of these to clean de CMD"
      ],
      "metadata": {
        "id": "S9cx-pAFqS26"
      }
    },
    {
      "cell_type": "markdown",
      "metadata": {
        "id": "dICEMMMXxUF_"
      },
      "source": [
        "\n",
        "<font color=\"blue\"> **We need to explore the other features in the data. Explore and visualize the distribution of parallax (remember that parallax is a representation of distance), and pmra and pmdec. Also, plot pmra vs pmdec. Remember that in the [SIMBAD](https://simbad.cds.unistra.fr/simbad/sim-id?Ident=ngc+2287&NbIdent=1&Radius=2&Radius.unit=arcmin&submit=submit+id) webpage there is the information of the cluster, check the literature values of the proper motion and distance or parallax, and try to limit your axis in the figures accordingly.** </font>\n"
      ]
    },
    {
      "cell_type": "code",
      "source": [
        "# Scatter Plot of proper motions\n"
      ],
      "metadata": {
        "id": "HhdeKj2ByiPk"
      },
      "execution_count": null,
      "outputs": []
    },
    {
      "cell_type": "code",
      "source": [
        "# Distribution of parallaxes\n"
      ],
      "metadata": {
        "id": "U7SEGRoayh46"
      },
      "execution_count": null,
      "outputs": []
    },
    {
      "cell_type": "code",
      "source": [
        "# Distribution of pm"
      ],
      "metadata": {
        "id": "pYA9fl6xyhQp"
      },
      "execution_count": null,
      "outputs": []
    },
    {
      "cell_type": "code",
      "source": [
        "# Your own exploration ideas!"
      ],
      "metadata": {
        "id": "6V60DFysycTk"
      },
      "execution_count": null,
      "outputs": []
    },
    {
      "cell_type": "markdown",
      "source": [
        "Proper motion refers to the apparent motion of a star across the sky as observed from Earth, measured in milliarcseconds per year (mas/yr).\n",
        "<font color=\"blue\">**What do you think should be the proper motion of all the stars in the cluster??**</font>\n",
        "\n"
      ],
      "metadata": {
        "id": "A2JaRc6KylNS"
      }
    },
    {
      "cell_type": "code",
      "source": [],
      "metadata": {
        "id": "sCRjwjZ0DOS5"
      },
      "execution_count": null,
      "outputs": []
    },
    {
      "cell_type": "markdown",
      "source": [
        "### **Part 3:** Unsupervised learning with DBSCAN"
      ],
      "metadata": {
        "id": "dvz7nQRNDOAF"
      }
    },
    {
      "cell_type": "markdown",
      "source": [
        "#### DBSCAN (Density-Based Spatial Clustering of Applications with Noise)\n",
        "\n",
        "DBSCAN is a density-based clustering algorithm that groups points close to each other while marking points in low-density regions as noise.\n",
        "\n",
        "- **Key Features:**\n",
        "  - Does not require specifying the number of clusters beforehand.\n",
        "  - Identifies clusters of arbitrary shapes.\n",
        "  - Handles noise (outliers) effectively.\n",
        "\n",
        "- **Parameters:**\n",
        "  - **`eps`:** The maximum distance between two points for them to be considered neighbors.\n",
        "  - **`min_samples`:** The minimum number of points required to form a dense region (a cluster).\n",
        "\n",
        "\n",
        "Clusters are built recursively from core points connected by nearby neighbors, while points in low-density areas are identified as outliers. This makes DBSCAN particularly useful for data where clusters are not globular or convex and where there is noise or isolated points.\n",
        "\n",
        "During each iteration of DBSCAN, the algorithm selects a point and evaluates whether it has enough neighbors within a distance `eps` to be considered a core point. If it qualifies as a core point, the cluster expands to include all its direct neighbors and their core neighbors recursively. If the point does not have enough neighbors, it is marked as a potential outlier. This process continues until all points are classified into clusters or labeled as outliers.\n",
        "\n",
        "A nice visualization of DBSCAN can be found [here](https://www.naftaliharris.com/blog/visualizing-dbscan-clustering/).\n",
        "\n",
        "<font color=\"blue\">**We will use DBSCAN with some features (variables) from the data we retrieve to try to identify the cluster members from the background sources, based on the fact that cluster stars would be ‘clustered’ not only spatially, but also in parameter space.**\n",
        "**Which variables do you think are important to separate the cluster members??**</font>\n",
        "\n",
        "\n",
        "\n",
        "As a first attempt, we will only use proper motion and parallax"
      ],
      "metadata": {
        "id": "WNXBg_f4DNwy"
      }
    },
    {
      "cell_type": "markdown",
      "source": [
        "Before appliying DBSCAN, we need to make some preprocessing to the data. The algorithm uses distance (euclidean) to determine the density. This means that we need to scale the data, in this case, `pmra`, `pmdec`and `parallax`. Normalize the data to ensure equal weight for all features.\n",
        "\n",
        "<font color=\"blue\">**Select from the table `pmra`, `pmdec`and `parallax` and apply [`StandardScaler()`](https://scikit-learn.org/1.5/modules/generated/sklearn.preprocessing.StandardScaler.html), which will remove the mean and scale to the unit variance.**</font>\n",
        "\n"
      ],
      "metadata": {
        "id": "fxbgtjotIa5y"
      }
    },
    {
      "cell_type": "code",
      "source": [
        "from sklearn.preprocessing import StandardScaler\n"
      ],
      "metadata": {
        "id": "gU_Ef4qOak_K"
      },
      "execution_count": null,
      "outputs": []
    },
    {
      "cell_type": "code",
      "source": [
        "#select the features"
      ],
      "metadata": {
        "id": "FEEDOvcQanJt"
      },
      "execution_count": null,
      "outputs": []
    },
    {
      "cell_type": "code",
      "source": [
        "#apply the scaler to the selected features\n",
        "scaler = StandardScaler()\n",
        "scaled_features = ..."
      ],
      "metadata": {
        "id": "tqiA-RVdaAq5"
      },
      "execution_count": null,
      "outputs": []
    },
    {
      "cell_type": "markdown",
      "source": [
        "<font color=\"blue\">**Now, implement DBSCAN algorithm. Remember the two parameters you must determine. For now, you can do it by \"guessing\" (for now). Plot again the `pmra` vs `pmdec` for each of the cluster members**</font>\n"
      ],
      "metadata": {
        "id": "a2aVphmnmULD"
      }
    },
    {
      "cell_type": "code",
      "source": [
        "from sklearn.cluster import DBSCAN\n"
      ],
      "metadata": {
        "id": "gACRlgDxmT2G"
      },
      "execution_count": null,
      "outputs": []
    },
    {
      "cell_type": "code",
      "source": [
        "#initialize the DBSCAN model and fit to the data\n",
        "\n",
        "dbscan = DBSCAN(eps=..., min_samples=...)  # choose the values of eps and min_samples\n",
        "cluster_data_df['cluster'] = ... #put the results in a column 'cluster' in the dataframe\n",
        "\n",
        "# Check the resulting clusters\n",
        "print(cluster_data_df['cluster'].value_counts())\n"
      ],
      "metadata": {
        "id": "JMCzhr5odRL5"
      },
      "execution_count": null,
      "outputs": []
    },
    {
      "cell_type": "code",
      "source": [
        "# Plot pmra vs pmdec and separate the clusters by color"
      ],
      "metadata": {
        "id": "BRahLUcCnaBJ"
      },
      "execution_count": null,
      "outputs": []
    },
    {
      "cell_type": "markdown",
      "source": [
        "<font color=\"blue\">**What do you think of your result? Were you able to separate the two distinct cluster in the proper motion space?**</font>\n",
        "\n"
      ],
      "metadata": {
        "id": "--fuQFJRndUM"
      }
    },
    {
      "cell_type": "code",
      "source": [],
      "metadata": {
        "id": "JbCQcDKpndEo"
      },
      "execution_count": null,
      "outputs": []
    },
    {
      "cell_type": "markdown",
      "source": [
        "To improve the results, we need to choose appropiate values of the parameters. One way to do it for `eps` is the k-distance plot, which is a visualization of the distance to the k-th nearest neighbor for all points in the dataset.\n",
        "\n",
        "**How It Works:**\n",
        "1. For each point in the dataset, calculate the distance to its k-th nearest neighbor (where  $k = \\rm{min\\_samples}$).\n",
        "2. Sort these distances in ascending order and plot them.\n",
        "3. Look for the **\"elbow\"** in the plot:\n",
        "   - The elbow point represents a natural threshold where the slope of the curve changes significantly.\n",
        "   - This point corresponds to a suitable value for `eps`.\n",
        "\n",
        "\n",
        "We use the [`NearestNeighbors`](https://scikit-learn.org/1.6/modules/neighbors.html) function from scikit-learn\n"
      ],
      "metadata": {
        "id": "g4XoEuV4luUn"
      }
    },
    {
      "cell_type": "code",
      "source": [
        "from sklearn.neighbors import NearestNeighbors\n"
      ],
      "metadata": {
        "id": "AgLdWOQob7hh"
      },
      "execution_count": null,
      "outputs": []
    },
    {
      "cell_type": "code",
      "source": [
        "# Compute the k-nearest neighbors\n",
        "k = 10  # explore what happens if you change this\n",
        "nearest_neighbors = NearestNeighbors(n_neighbors=k)\n",
        "nearest_neighbors.fit(scaled_features)\n",
        "distances, _ = nearest_neighbors.kneighbors(scaled_features)\n",
        "\n",
        "# Sort distances to find the elbow\n",
        "distances = np.sort(distances[:, k-1])\n",
        "plt.figure(figsize=(10, 6))\n",
        "plt.plot(distances)\n",
        "plt.xlabel(\"Points (sorted by distance)\")\n",
        "plt.ylabel(f\"Distance to {k}-th nearest neighbor\")\n",
        "plt.title(\"k-distance plot\")\n",
        "plt.xlim(0,30500)\n",
        "plt.ylim(0,1)\n",
        "plt.show()"
      ],
      "metadata": {
        "id": "RW3A-c_Bb7Yq"
      },
      "execution_count": null,
      "outputs": []
    },
    {
      "cell_type": "markdown",
      "source": [
        "<font color=\"blue\">**Choose `eps` at the \"elbow\" point where the slope changes significantly. Points below this cutoff form dense clusters, while points above it are likely noise**\n",
        "\n",
        "**Now, retry DBSCAN with your selected `min_samples` and `eps`parameters and check how it looks in the proper motion space**</font>\n"
      ],
      "metadata": {
        "id": "UktkVhfUddhO"
      }
    },
    {
      "cell_type": "code",
      "source": [],
      "metadata": {
        "id": "f9OrxfffdspS"
      },
      "execution_count": null,
      "outputs": []
    },
    {
      "cell_type": "code",
      "source": [
        "dbscan = DBSCAN(eps=..., min_samples=...)  # Adjust eps based on k-distance plot\n",
        "cluster_data_df['cluster'] =\n",
        "\n",
        "# Check the resulting clusters\n",
        "print(cluster_data_df['cluster'].value_counts())\n"
      ],
      "metadata": {
        "id": "amU06Y1Cb7KY"
      },
      "execution_count": null,
      "outputs": []
    },
    {
      "cell_type": "code",
      "source": [
        "# plot pmra vs pmdec and separate the clusters by color"
      ],
      "metadata": {
        "id": "o8LqBEwVeQ5U"
      },
      "execution_count": null,
      "outputs": []
    },
    {
      "cell_type": "markdown",
      "source": [
        "<font color=\"blue\">**Using the results, the next step is to plot the CMD exclusively for the cluster members identified by DBSCAN. This will allow us to evaluate whether the CMD more accurately represents the cluster population. Create a CMD plot focusing only on the identified cluster members.**</font>\n"
      ],
      "metadata": {
        "id": "7Vxx3pCJqspz"
      }
    },
    {
      "cell_type": "code",
      "source": [
        "cluster_data_df.cluster.value_counts()"
      ],
      "metadata": {
        "id": "jAcdI0PEqsUU"
      },
      "execution_count": null,
      "outputs": []
    },
    {
      "cell_type": "code",
      "source": [
        "cluster_members_dbscan= ... #filter the cluster members based on the result of DBSCAN"
      ],
      "metadata": {
        "id": "oaWgLQWBuFll"
      },
      "execution_count": null,
      "outputs": []
    },
    {
      "cell_type": "code",
      "source": [
        "#plot the CMD with only cluster members\n"
      ],
      "metadata": {
        "id": "8fq9dnOzeQxP"
      },
      "execution_count": null,
      "outputs": []
    },
    {
      "cell_type": "code",
      "source": [],
      "metadata": {
        "id": "OcJ-73KeeQn6"
      },
      "execution_count": null,
      "outputs": []
    },
    {
      "cell_type": "markdown",
      "source": [
        "<font color=\"blue\">**Questions**\n",
        "- What do you think can improve the method?\n",
        "- What if we use other variables from the data (photometry, position, or other characteristics)?\n",
        "- You can try your ideas with other clusters, such as NGC 2264, NGC 2682, NGC 2244, NGC 3293, NGC 6913, NGC 7142, IC 1805, NGC 6231, NGC 2243, NGC 6451, NGC 6005 and NGC 6583. (Pro tip: search the main characteristics in SINBAD to retrieve the data from Gaia). Select your favorite one and have fun!\n",
        "</font>\n",
        "\n",
        "\n"
      ],
      "metadata": {
        "id": "Me7RpGnxwArp"
      }
    },
    {
      "cell_type": "markdown",
      "source": [
        "Some useful references\n",
        "\n",
        "\n",
        "- Raja, M., Hasan, P., Mahmudunnobe, M., Saifuddin, M., & Hasan, S. N. (2024). Membership determination in open clusters using the DBSCAN Clustering Algorithm. arXiv, 2404.10477. Retrieved from https://arxiv.org/abs/2404.10477v1\n",
        "\n",
        "- Gao, X. (2024). A clustering (DBSCAN+GMM) investigation of the young open cluster NGC 6649. Mon. Not. R. Astron. Soc., 527(2), 1784–1793. doi: 10.1093/mnras/stad3358\n",
        "\n",
        "- Badawy, W. A., Tadross, A. L., Hendy, Y. H. M., Hassan, I. A., Ismail, M. N., & Mouner, A. (2022). Open clusters with proper motions fully separatedfrom the field stars using Gaia DR2. NRIAG J. Astron. Geophys. doi: 10.1080/20909977.2022.2037817"
      ],
      "metadata": {
        "id": "DkUzrNaGzbKj"
      }
    },
    {
      "cell_type": "code",
      "source": [],
      "metadata": {
        "id": "D2AnmAMhwkTr"
      },
      "execution_count": null,
      "outputs": []
    }
  ],
  "metadata": {
    "kernelspec": {
      "display_name": "Python 3 (ipykernel)",
      "language": "python",
      "name": "python3"
    },
    "language_info": {
      "codemirror_mode": {
        "name": "ipython",
        "version": 3
      },
      "file_extension": ".py",
      "mimetype": "text/x-python",
      "name": "python",
      "nbconvert_exporter": "python",
      "pygments_lexer": "ipython3",
      "version": "3.9.12"
    },
    "colab": {
      "provenance": []
    }
  },
  "nbformat": 4,
  "nbformat_minor": 0
}